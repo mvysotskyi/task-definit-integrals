{
  "nbformat": 4,
  "nbformat_minor": 0,
  "metadata": {
    "colab": {
      "provenance": []
    },
    "kernelspec": {
      "name": "python3",
      "display_name": "Python 3"
    },
    "language_info": {
      "name": "python"
    }
  },
  "cells": [
    {
      "cell_type": "markdown",
      "source": [
        "#**Визначений інтеграл Рімана та метод трапецій** *🎄*"
      ],
      "metadata": {
        "id": "6aN8JkardIot"
      }
    },
    {
      "cell_type": "markdown",
      "source": [
        "У цьому додатковому вам потрібно обчислювати визначені інтеграли різними способами:\n",
        "\n",
        "\n",
        "\n",
        "*  🧸 За означенням: $∫_a^bf(x)dx = {\\displaystyle lim_{n-> +∞}\\sum \\limits _{i=1}^{n}{f(\\xi _{i})\\Delta x_{i}}}, \\xi_i \\in  [x_i, x_{i+1}]$ для певного розбиття на $[a, b]$\n",
        "*   ⛄ Методом трапецій: замість вибору будь-якої точки $ξ_i$ на $[x_i, x_{i+1}]$, беруть середнє значення на кінцях відрізків: ${\\displaystyle \\int _{a}^{b}f(x)\\,dx=\\sum _{i=1}^{n}\\int _{x_{i-1}}^{x_{i}}f(x)\\,dx\\approx \\sum _{i=1}^{n}{\\frac {f(x_{i})+f(x_{i-1})}{2}}\\Delta x_{i},}$.\n",
        "\n",
        "  Якщо ділити $[a, b]$ на $n$ рівних частин то формула набуває вигляду: ${\\displaystyle \\int _{a}^{b}f(x)\\,dx\\approx \\left({\\frac {f(a)+f(b)}{2}}+\\sum _{i=1}^{n-1}f(x_{i})\\right)⋅\\frac{b-a}{n}}$\n",
        "\n",
        "\n",
        "\n",
        "\n"
      ],
      "metadata": {
        "id": "oWl5RjlAfEVB"
      }
    },
    {
      "cell_type": "markdown",
      "source": [
        "# *Про бібліотеку sympy ⬇*"
      ],
      "metadata": {
        "id": "ePpoSsdYdgGt"
      }
    },
    {
      "cell_type": "markdown",
      "source": [
        "Для виконання цього завдання вам стане у пригоді бібліотека ```sympy```, яка дозволяє легко і швидко проводити різноманітні операції над виразами, використовуючи символьне обчислення (трохи нагадує попереднє додаткове завдання, де ви писали функцію для знаходження похідної, правда ж? 😉 )\n",
        "\n",
        "Більше про те, що таке символьне обчислення, які переваги бібліотеки ```sympy``` та як взагалі нею користуватись, можна знайти в [документації](https://docs.sympy.org/latest/tutorials/intro-tutorial/intro.html#what-is-symbolic-computation)."
      ],
      "metadata": {
        "id": "svhhkHeWfaiP"
      }
    },
    {
      "cell_type": "markdown",
      "source": [
        "### Як встановити бібліотеку❓ "
      ],
      "metadata": {
        "id": "sLECMW59dttE"
      }
    },
    {
      "cell_type": "markdown",
      "source": [
        "Для інсталяцій достатньо в терміналі виконати наступні команди:\n",
        "\n",
        "```\n",
        "pip install mpmath\n",
        "pip install sympy\n",
        "```\n",
        "\n"
      ],
      "metadata": {
        "id": "TB1fcEwfecf1"
      }
    },
    {
      "cell_type": "markdown",
      "source": [
        "### Приклади використання 🤯"
      ],
      "metadata": {
        "id": "a6THXs15fU0o"
      }
    },
    {
      "cell_type": "code",
      "execution_count": null,
      "metadata": {
        "id": "rDosnIQVVidD"
      },
      "outputs": [],
      "source": [
        "# такий тип імпорту варто уникати, але для зручності залишимо так\n",
        "from sympy import *\n",
        "\n",
        "x, y = symbols('x y')\n",
        "init_printing(use_unicode=True)"
      ]
    },
    {
      "cell_type": "code",
      "source": [
        "# знайдемо похідну функції cos(x) по x\n",
        "derivative = diff(cos(x), x)\n",
        "derivative"
      ],
      "metadata": {
        "colab": {
          "base_uri": "https://localhost:8080/",
          "height": 39
        },
        "id": "wey6jfFhZwjZ",
        "outputId": "90ddcd43-3d34-43a4-ba85-b029640bea1f"
      },
      "execution_count": null,
      "outputs": [
        {
          "output_type": "execute_result",
          "data": {
            "text/plain": [
              "-sin(x)"
            ],
            "image/png": "[encoded data removed]",
            "text/latex": "$\\displaystyle - \\sin{\\left(x \\right)}$"
          },
          "metadata": {},
          "execution_count": 3
        }
      ]
    },
    {
      "cell_type": "code",
      "source": [
        "# знайдемо другу похідну cos(x) по x\n",
        "second_derivative = diff(cos(x), x, 2)\n",
        "second_derivative"
      ],
      "metadata": {
        "colab": {
          "base_uri": "https://localhost:8080/",
          "height": 39
        },
        "id": "6II7zBpykjBH",
        "outputId": "be401357-bd03-4cee-8e04-3d9365f19e4e"
      },
      "execution_count": null,
      "outputs": [
        {
          "output_type": "execute_result",
          "data": {
            "text/plain": [
              "-cos(x)"
            ],
            "image/png": "[encoded data removed]",
            "text/latex": "$\\displaystyle - \\cos{\\left(x \\right)}$"
          },
          "metadata": {},
          "execution_count": 4
        }
      ]
    },
    {
      "cell_type": "code",
      "source": [
        "# для обчислення результату можна скористатись функцією evalf, де subs - словник аргументів\n",
        "derivative.evalf(subs={x: pi/2}) # -sin(pi/2)"
      ],
      "metadata": {
        "colab": {
          "base_uri": "https://localhost:8080/",
          "height": 37
        },
        "id": "tJP2fMNcje3x",
        "outputId": "0f175e39-22b0-4ae8-c244-fbb1911c0cb3"
      },
      "execution_count": null,
      "outputs": [
        {
          "output_type": "execute_result",
          "data": {
            "text/plain": [
              "-1.00000000000000"
            ],
            "image/png": "[encoded data removed]",
            "text/latex": "$\\displaystyle -1.0$"
          },
          "metadata": {},
          "execution_count": 5
        }
      ]
    },
    {
      "cell_type": "code",
      "source": [
        "# невизначений і визначений інтеграл\n",
        "print(integrate(sin(x), x))\n",
        "print(integrate(x**2, (x, 3, 9)))"
      ],
      "metadata": {
        "colab": {
          "base_uri": "https://localhost:8080/"
        },
        "id": "nNwA2ZefjvWh",
        "outputId": "53e84889-0899-42d6-c931-68911934322f"
      },
      "execution_count": null,
      "outputs": [
        {
          "output_type": "stream",
          "name": "stdout",
          "text": [
            "-cos(x)\n",
            "234\n"
          ]
        }
      ]
    },
    {
      "cell_type": "markdown",
      "source": [
        "Насправді в бібліотеці ```sypmy``` просто веееличезна кількість прикольних і корисних функцій, тому дуже радимо таки заглянути в [документацію](https://docs.sympy.org/latest/tutorials/intro-tutorial/intro.html#what-is-symbolic-computation) 😇"
      ],
      "metadata": {
        "id": "WBcRpc9ymWjU"
      }
    },
    {
      "cell_type": "markdown",
      "source": [
        "# *Трішки про побудову графіків 📈*"
      ],
      "metadata": {
        "id": "CjTxWD0LRinP"
      }
    },
    {
      "cell_type": "markdown",
      "source": [
        "В другому завданні, щоб показати, що похибка зменшується як $O(1/n^2)$ 📉, найкраще побудувати графік 🏂. Як це зробити?"
      ],
      "metadata": {
        "id": "XsfqgP7VR-jG"
      }
    },
    {
      "cell_type": "code",
      "source": [
        "# можна скористатись такою бібліотекою\n",
        "import matplotlib.pyplot as plt"
      ],
      "metadata": {
        "id": "TOPIFHpcSXw4"
      },
      "execution_count": null,
      "outputs": []
    },
    {
      "cell_type": "code",
      "source": [
        "# для різних x побудуємо фукцію y = 5*x**2\n",
        "x = [i for i in range(1, 100, 5)]\n",
        "y = [5*value**2 for value in x]\n",
        "plt.scatter(x, y)"
      ],
      "metadata": {
        "colab": {
          "base_uri": "https://localhost:8080/",
          "height": 282
        },
        "id": "VGnP35gpSo0r",
        "outputId": "753ad4d8-c70e-473a-89f1-81077613ad01"
      },
      "execution_count": null,
      "outputs": [
        {
          "output_type": "execute_result",
          "data": {
            "text/plain": [
              "<matplotlib.collections.PathCollection at 0x7fc215214280>"
            ]
          },
          "metadata": {},
          "execution_count": 4
        },
        {
          "output_type": "display_data",
          "data": {
            "text/plain": [
              "<Figure size 432x288 with 1 Axes>"
            ],
            "image/png": "[encoded data removed]"
          },
          "metadata": {
            "needs_background": "light"
          }
        }
      ]
    },
    {
      "cell_type": "markdown",
      "source": [
        "# **Завдання 1 🤴**\n",
        "\n",
        "Варто порівняти, який зі способів обчислення визначеного інтеграла точніший, та навести висновки.\n",
        "\n",
        "Порівняйте розбиття різного розміру та розгляньте різні види функцій: тригонометричні, поліноміальні, експоненціальні, тощо.\n",
        "\n",
        "Покажіть, що чим менший розмір (чим більше $n$), тим кращий результат.\n",
        "\n",
        "\n",
        "\n",
        "\n",
        " Приблизний вигляд функцій, які треба реалізувати:\n"
      ],
      "metadata": {
        "id": "K5lBMKT5qTaQ"
      }
    },
    {
      "cell_type": "code",
      "source": [
        "def riemann_method(func, a: float, b: float, n: int) -> float:\n",
        "    \"\"\"\n",
        "    [a, b] - interval\n",
        "    n - number of subintervals in the partition. points in them are chosen randomly\n",
        "    func = cos(x), for example, where x = Symbol(\"x\")\n",
        "    Must return the approximate value of the integral of 'func' on [a, b]\n",
        "    \"\"\"\n",
        "    pass\n",
        "\n",
        "def trapezoidal_method(func, a: float, b: float, n: int) -> float:\n",
        "    \"\"\"\n",
        "    [a, b] - interval\n",
        "    n - number of subintervals in the partition (all should be the same size)\n",
        "    func = 1 / x, for example, where x = Symbol(\"x\")\n",
        "    Must return the approximate value of the integral of 'func' on [a, b]\n",
        "    \"\"\"\n",
        "    pass\n",
        "\n",
        "def compare_accuracy(func, a: float, b: float, n: int):\n",
        "    \"\"\"\n",
        "    Compares the real integral value and the one received from two upper functions.\n",
        "    \"\"\"\n",
        "    pass"
      ],
      "metadata": {
        "id": "QZnHOF84IB2E"
      },
      "execution_count": null,
      "outputs": []
    },
    {
      "cell_type": "markdown",
      "source": [
        "# **Завдання 2 👸**\n",
        "\n",
        "Для різних функцій варто показати, що у методі трапецій, де застосовується розбиття інтервалу інтегрування на $n$ рівних відрізків похибка зменшується як $O(1/n^2)$, де $n$ -- кількість підінтервалів у розбитті.\n",
        "\n",
        "Для цього викличте ```trapezoidal_method``` для різних $n$, та наведіть графік похибки в залежності від $n$. \n",
        "\n"
      ],
      "metadata": {
        "id": "0szLgtB2w7z9"
      }
    },
    {
      "cell_type": "code",
      "source": [
        "def get_plot_of_error(func, a: float, b: float):\n",
        "    \"\"\"\n",
        "    Consider different n to see the error decrease, then plot the result\n",
        "    \"\"\"\n",
        "    pass"
      ],
      "metadata": {
        "id": "DcFkgAXLHS-R"
      },
      "execution_count": null,
      "outputs": []
    },
    {
      "cell_type": "markdown",
      "source": [
        "### Демонстрацію роботи усіх функцій зробіть через ```if __name__ == \"__main__\":``` або у короткому звіті 🍪"
      ],
      "metadata": {
        "id": "QJbTpgK5OqpJ"
      }
    }
  ]
}